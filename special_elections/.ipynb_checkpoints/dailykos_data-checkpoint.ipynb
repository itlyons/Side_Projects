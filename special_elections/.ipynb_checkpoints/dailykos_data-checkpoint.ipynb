{
 "cells": [
  {
   "cell_type": "code",
   "execution_count": 1,
   "metadata": {},
   "outputs": [],
   "source": [
    "import csv\n",
    "import pandas as pd\n",
    "import seaborn as sns\n",
    "sns.set_style(\"darkgrid\")\n",
    "import matplotlib\n",
    "import matplotlib.pyplot as plt\n",
    "import numpy as np\n",
    "%matplotlib inline"
   ]
  },
  {
   "cell_type": "code",
   "execution_count": 2,
   "metadata": {},
   "outputs": [
    {
     "name": "stdout",
     "output_type": "stream",
     "text": [
      "538_approval_polllist.csv    pollster-ratings_528csv.csv\r\n",
      "538_approval_topline.csv     raw-polls_528.csv\r\n",
      "dkos 18.csv                  special-elections_538.csv\r\n",
      "pollster-ratings.csv\r\n"
     ]
    }
   ],
   "source": [
    "ls ../data"
   ]
  },
  {
   "cell_type": "code",
   "execution_count": 3,
   "metadata": {},
   "outputs": [],
   "source": [
    "dfile = '../data/dkos 18.csv'\n",
    "dfile2 = '../data/special-elections_538.csv'"
   ]
  },
  {
   "cell_type": "code",
   "execution_count": 4,
   "metadata": {},
   "outputs": [],
   "source": [
    "dfkos = pd.read_csv(dfile,parse_dates=True,date_parser='date')\n",
    "df538 = pd.read_csv(dfile2, parse_dates=True)"
   ]
  },
  {
   "cell_type": "code",
   "execution_count": 5,
   "metadata": {},
   "outputs": [
    {
     "data": {
      "text/html": [
       "<div>\n",
       "<style scoped>\n",
       "    .dataframe tbody tr th:only-of-type {\n",
       "        vertical-align: middle;\n",
       "    }\n",
       "\n",
       "    .dataframe tbody tr th {\n",
       "        vertical-align: top;\n",
       "    }\n",
       "\n",
       "    .dataframe thead th {\n",
       "        text-align: right;\n",
       "    }\n",
       "</style>\n",
       "<table border=\"1\" class=\"dataframe\">\n",
       "  <thead>\n",
       "    <tr style=\"text-align: right;\">\n",
       "      <th></th>\n",
       "      <th>date</th>\n",
       "      <th>state</th>\n",
       "      <th>District</th>\n",
       "      <th>held_by</th>\n",
       "      <th>winner</th>\n",
       "      <th>18_d_vshare</th>\n",
       "      <th>18_r_vshare</th>\n",
       "      <th>18_marg</th>\n",
       "      <th>16_clinton</th>\n",
       "      <th>16_trump</th>\n",
       "      <th>16_margin</th>\n",
       "      <th>16_marg_diff</th>\n",
       "      <th>12_obama</th>\n",
       "      <th>12_romney</th>\n",
       "      <th>12_margin</th>\n",
       "      <th>12_marg_diff</th>\n",
       "    </tr>\n",
       "  </thead>\n",
       "  <tbody>\n",
       "    <tr>\n",
       "      <th>0</th>\n",
       "      <td>1-May-18</td>\n",
       "      <td>FL</td>\n",
       "      <td>HD-39</td>\n",
       "      <td>(R)</td>\n",
       "      <td>(R)</td>\n",
       "      <td>0.40</td>\n",
       "      <td>0.60</td>\n",
       "      <td>-0.20</td>\n",
       "      <td>0.39</td>\n",
       "      <td>0.58</td>\n",
       "      <td>-0.19</td>\n",
       "      <td>-0.01</td>\n",
       "      <td>0.43</td>\n",
       "      <td>0.56</td>\n",
       "      <td>-0.12</td>\n",
       "      <td>-0.07</td>\n",
       "    </tr>\n",
       "    <tr>\n",
       "      <th>1</th>\n",
       "      <td>1-May-18</td>\n",
       "      <td>FL</td>\n",
       "      <td>HD-114</td>\n",
       "      <td>(D)</td>\n",
       "      <td>(D)</td>\n",
       "      <td>0.51</td>\n",
       "      <td>0.47</td>\n",
       "      <td>0.04</td>\n",
       "      <td>0.56</td>\n",
       "      <td>0.42</td>\n",
       "      <td>0.14</td>\n",
       "      <td>-0.10</td>\n",
       "      <td>0.50</td>\n",
       "      <td>0.49</td>\n",
       "      <td>0.01</td>\n",
       "      <td>0.03</td>\n",
       "    </tr>\n",
       "    <tr>\n",
       "      <th>2</th>\n",
       "      <td>24-Apr-18</td>\n",
       "      <td>AZ</td>\n",
       "      <td>AZ-08</td>\n",
       "      <td>(R)</td>\n",
       "      <td>(R)</td>\n",
       "      <td>0.47</td>\n",
       "      <td>0.52</td>\n",
       "      <td>-0.05</td>\n",
       "      <td>0.37</td>\n",
       "      <td>0.58</td>\n",
       "      <td>-0.21</td>\n",
       "      <td>0.16</td>\n",
       "      <td>0.37</td>\n",
       "      <td>0.62</td>\n",
       "      <td>-0.25</td>\n",
       "      <td>0.20</td>\n",
       "    </tr>\n",
       "    <tr>\n",
       "      <th>3</th>\n",
       "      <td>24-Apr-18</td>\n",
       "      <td>NY</td>\n",
       "      <td>SD-32</td>\n",
       "      <td>(D)</td>\n",
       "      <td>(D)</td>\n",
       "      <td>0.89</td>\n",
       "      <td>0.02</td>\n",
       "      <td>0.86</td>\n",
       "      <td>0.93</td>\n",
       "      <td>0.05</td>\n",
       "      <td>0.88</td>\n",
       "      <td>-0.02</td>\n",
       "      <td>0.97</td>\n",
       "      <td>0.03</td>\n",
       "      <td>0.94</td>\n",
       "      <td>-0.07</td>\n",
       "    </tr>\n",
       "    <tr>\n",
       "      <th>4</th>\n",
       "      <td>24-Apr-18</td>\n",
       "      <td>NY</td>\n",
       "      <td>SD-37</td>\n",
       "      <td>(D)</td>\n",
       "      <td>(D)</td>\n",
       "      <td>0.57</td>\n",
       "      <td>0.43</td>\n",
       "      <td>0.15</td>\n",
       "      <td>0.59</td>\n",
       "      <td>0.38</td>\n",
       "      <td>0.22</td>\n",
       "      <td>-0.07</td>\n",
       "      <td>0.54</td>\n",
       "      <td>0.45</td>\n",
       "      <td>0.09</td>\n",
       "      <td>0.06</td>\n",
       "    </tr>\n",
       "  </tbody>\n",
       "</table>\n",
       "</div>"
      ],
      "text/plain": [
       "        date state District held_by winner  18_d_vshare  18_r_vshare  18_marg  \\\n",
       "0   1-May-18    FL    HD-39     (R)    (R)         0.40         0.60    -0.20   \n",
       "1   1-May-18    FL   HD-114     (D)    (D)         0.51         0.47     0.04   \n",
       "2  24-Apr-18    AZ    AZ-08     (R)    (R)         0.47         0.52    -0.05   \n",
       "3  24-Apr-18    NY    SD-32     (D)    (D)         0.89         0.02     0.86   \n",
       "4  24-Apr-18    NY    SD-37     (D)    (D)         0.57         0.43     0.15   \n",
       "\n",
       "   16_clinton  16_trump  16_margin  16_marg_diff  12_obama  12_romney  \\\n",
       "0        0.39      0.58      -0.19         -0.01      0.43       0.56   \n",
       "1        0.56      0.42       0.14         -0.10      0.50       0.49   \n",
       "2        0.37      0.58      -0.21          0.16      0.37       0.62   \n",
       "3        0.93      0.05       0.88         -0.02      0.97       0.03   \n",
       "4        0.59      0.38       0.22         -0.07      0.54       0.45   \n",
       "\n",
       "   12_margin  12_marg_diff  \n",
       "0      -0.12         -0.07  \n",
       "1       0.01          0.03  \n",
       "2      -0.25          0.20  \n",
       "3       0.94         -0.07  \n",
       "4       0.09          0.06  "
      ]
     },
     "execution_count": 5,
     "metadata": {},
     "output_type": "execute_result"
    }
   ],
   "source": [
    "dfkos.head()"
   ]
  },
  {
   "cell_type": "code",
   "execution_count": null,
   "metadata": {},
   "outputs": [],
   "source": [
    "df['date']=pd.to_datetime(df538['date'], infer_datetime_format=True)\n",
    "df538['edu_x_inc'] = df538['%_bach_degree']*df538['median_inc']\n",
    "df538.head()"
   ]
  },
  {
   "cell_type": "code",
   "execution_count": null,
   "metadata": {},
   "outputs": [],
   "source": [
    "sns.regplot(x='16_clinton', y='18_d_vshare', data=df, color='orange', scatter=True, marker='+', order=1)\n",
    "sns.regplot(x='12_obama', y='18_d_vshare', data=df, color='blue', scatter=True, marker='+', order=1)\n",
    "plt.xlabel('Dem Margin in 16 (orange) and 12(blue)', fontsize=14, color='indigo')\n",
    "fig = matplotlib.pyplot.gcf()\n",
    "fig.set_size_inches(18.5, 10.5)"
   ]
  },
  {
   "cell_type": "code",
   "execution_count": null,
   "metadata": {},
   "outputs": [],
   "source": [
    "sns.regplot(x='12_romney', y='18_r_vshare', data=df, color='orange', scatter=True, marker='+', order=1)\n",
    "sns.regplot(x='16_trump', y='18_r_vshare', data=df, color='green', scatter=True, marker='+', order=1)\n",
    "plt.xlabel('green- 16_trump, orange- 12_romney')\n",
    "fig = matplotlib.pyplot.gcf()\n",
    "fig.set_size_inches(18.5, 10.5)"
   ]
  },
  {
   "cell_type": "code",
   "execution_count": null,
   "metadata": {},
   "outputs": [],
   "source": [
    "df538.corr()\n",
    "sns.heatmap(df538.corr())"
   ]
  },
  {
   "cell_type": "code",
   "execution_count": null,
   "metadata": {},
   "outputs": [],
   "source": [
    "sns.regplot(x='median_inc', y='18_over_lean', data=df538, color='b', scatter=True, marker='+', order=1)\n",
    "sns.regplot(x='median_inc', y='clinton_over_BO', data=df538, color='orange', scatter=True, marker='+', order=1)\n",
    "fig = matplotlib.pyplot.gcf()\n",
    "fig.set_size_inches(18.5, 10.5)"
   ]
  },
  {
   "cell_type": "code",
   "execution_count": null,
   "metadata": {},
   "outputs": [],
   "source": [
    "sns.regplot(x='edu_x_inc', y='18_over_lean', data=df538, color='b', scatter=True, marker='+', order=1, logx=True)\n",
    "sns.regplot(x='edu_x_inc', y='clinton_over_BO', data=df538, color='orange', scatter=True, marker='+', order=1, logx=True)\n",
    "fig = matplotlib.pyplot.gcf()\n",
    "fig.set_size_inches(18.5, 10.5)"
   ]
  },
  {
   "cell_type": "code",
   "execution_count": null,
   "metadata": {},
   "outputs": [],
   "source": [
    "print(df538.corr())\n",
    "sns.heatmap(df538.corr())"
   ]
  },
  {
   "cell_type": "code",
   "execution_count": null,
   "metadata": {
    "scrolled": true
   },
   "outputs": [],
   "source": [
    "sns.swarmplot(x='16_clinton' , y='18_d_vshare' , data=df)\n",
    "plt.xticks(rotation='vertical', )\n",
    "plt.locator_params(axis='x', nbins=10)\n",
    "fig = matplotlib.pyplot.gcf()\n",
    "fig.set_size_inches(18.5, 10.5)"
   ]
  },
  {
   "cell_type": "code",
   "execution_count": null,
   "metadata": {},
   "outputs": [],
   "source": [
    "sns.swarmplot(x='18_over_lean' , y='edu_x_inc' , data=df538)\n",
    "plt.xticks(rotation='vertical')\n",
    "\n",
    "plt.locator_params(axis='x', nbins=5, tight=True)\n",
    "fig = matplotlib.pyplot.gcf()\n",
    "fig.set_size_inches(18.5, 10.5)\n",
    "plt.show()"
   ]
  },
  {
   "cell_type": "code",
   "execution_count": null,
   "metadata": {},
   "outputs": [],
   "source": [
    "df.District[0:5]"
   ]
  },
  {
   "cell_type": "code",
   "execution_count": null,
   "metadata": {},
   "outputs": [],
   "source": [
    "df538.istrict[0:5]"
   ]
  },
  {
   "cell_type": "code",
   "execution_count": null,
   "metadata": {},
   "outputs": [],
   "source": []
  }
 ],
 "metadata": {
  "kernelspec": {
   "display_name": "Python 3",
   "language": "python",
   "name": "python3"
  },
  "language_info": {
   "codemirror_mode": {
    "name": "ipython",
    "version": 3
   },
   "file_extension": ".py",
   "mimetype": "text/x-python",
   "name": "python",
   "nbconvert_exporter": "python",
   "pygments_lexer": "ipython3",
   "version": "3.6.5"
  }
 },
 "nbformat": 4,
 "nbformat_minor": 2
}
